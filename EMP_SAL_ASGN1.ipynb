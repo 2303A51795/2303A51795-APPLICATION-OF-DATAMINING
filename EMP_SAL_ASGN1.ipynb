{
  "nbformat": 4,
  "nbformat_minor": 0,
  "metadata": {
    "colab": {
      "provenance": [],
      "authorship_tag": "ABX9TyN8QKPyr1Jm9mLgRWEPV0Yf",
      "include_colab_link": true
    },
    "kernelspec": {
      "name": "python3",
      "display_name": "Python 3"
    },
    "language_info": {
      "name": "python"
    }
  },
  "cells": [
    {
      "cell_type": "markdown",
      "metadata": {
        "id": "view-in-github",
        "colab_type": "text"
      },
      "source": [
        "<a href=\"https://colab.research.google.com/github/2303A51795/2303A51795-APPLICATION-OF-DATAMINING/blob/main/EMP_SAL_ASGN1.ipynb\" target=\"_parent\"><img src=\"https://colab.research.google.com/assets/colab-badge.svg\" alt=\"Open In Colab\"/></a>"
      ]
    },
    {
      "cell_type": "code",
      "execution_count": 1,
      "metadata": {
        "id": "BH8KSxvwAopI"
      },
      "outputs": [],
      "source": [
        "import pandas as pd\n",
        "from sklearn.preprocessing import MinMaxScaler"
      ]
    },
    {
      "cell_type": "code",
      "source": [
        "file_path = ('/content/sample_data/EMP_SAL.csv')\n",
        "df = pd.read_csv(file_path)"
      ],
      "metadata": {
        "id": "rzaEbSpNA4Bx"
      },
      "execution_count": 3,
      "outputs": []
    },
    {
      "cell_type": "code",
      "source": [
        "print(\"Dataset Information:\")\n",
        "print(df.info())"
      ],
      "metadata": {
        "colab": {
          "base_uri": "https://localhost:8080/"
        },
        "id": "nXOZjwSSBAMj",
        "outputId": "b2c0932b-e586-4a03-eb82-77708848bc7f"
      },
      "execution_count": 4,
      "outputs": [
        {
          "output_type": "stream",
          "name": "stdout",
          "text": [
            "Dataset Information:\n",
            "<class 'pandas.core.frame.DataFrame'>\n",
            "RangeIndex: 14 entries, 0 to 13\n",
            "Data columns (total 5 columns):\n",
            " #   Column     Non-Null Count  Dtype \n",
            "---  ------     --------------  ----- \n",
            " 0   DOB        14 non-null     object\n",
            " 1   BASIC_PAY  14 non-null     int64 \n",
            " 2   HRA        14 non-null     int64 \n",
            " 3   DA         14 non-null     int64 \n",
            " 4   TAX        14 non-null     int64 \n",
            "dtypes: int64(4), object(1)\n",
            "memory usage: 692.0+ bytes\n",
            "None\n"
          ]
        }
      ]
    },
    {
      "cell_type": "code",
      "source": [
        "print(\"\\nFirst Few Rows of the Dataset:\")\n",
        "print(df.head())"
      ],
      "metadata": {
        "colab": {
          "base_uri": "https://localhost:8080/"
        },
        "id": "GFjPcnyyBCp_",
        "outputId": "60ce366b-4639-476c-86b6-6bc29090893c"
      },
      "execution_count": 5,
      "outputs": [
        {
          "output_type": "stream",
          "name": "stdout",
          "text": [
            "\n",
            "First Few Rows of the Dataset:\n",
            "          DOB  BASIC_PAY    HRA    DA   TAX\n",
            "0  07-03-2004      75000  12500  5200  4500\n",
            "1  10-03-2002      79500  13200  5600  5000\n",
            "2  12-03-2000      84000  13900  6000  5500\n",
            "3  15-03-1998      88500  14600  6400  6000\n",
            "4  17-03-1996      93000  15300  6800  6500\n"
          ]
        }
      ]
    },
    {
      "cell_type": "code",
      "source": [
        "print(\"\\nMissing Values in Each Column:\")\n",
        "print(df.isnull().sum())"
      ],
      "metadata": {
        "colab": {
          "base_uri": "https://localhost:8080/"
        },
        "id": "mBQOF5XOBFHF",
        "outputId": "352b3906-cb6d-4443-c0db-e4fdef8f502b"
      },
      "execution_count": 6,
      "outputs": [
        {
          "output_type": "stream",
          "name": "stdout",
          "text": [
            "\n",
            "Missing Values in Each Column:\n",
            "DOB          0\n",
            "BASIC_PAY    0\n",
            "HRA          0\n",
            "DA           0\n",
            "TAX          0\n",
            "dtype: int64\n"
          ]
        }
      ]
    },
    {
      "cell_type": "code",
      "source": [
        "# Since there are no missing values, we skip imputation"
      ],
      "metadata": {
        "id": "g5OrZg48BLD-"
      },
      "execution_count": 7,
      "outputs": []
    },
    {
      "cell_type": "code",
      "source": [
        "# Define numerical columns for feature scaling\n",
        "numerical_cols = [\"BASIC_PAY\", \"HRA\", \"DA\", \"TAX\"]"
      ],
      "metadata": {
        "id": "nLse2c9IBMfa"
      },
      "execution_count": 8,
      "outputs": []
    },
    {
      "cell_type": "code",
      "source": [
        "scaler = MinMaxScaler()"
      ],
      "metadata": {
        "id": "QaJbDx7VBPRc"
      },
      "execution_count": 9,
      "outputs": []
    },
    {
      "cell_type": "code",
      "source": [
        "df_scaled = df.copy() # Create a copy to preserve original data\n",
        "df_scaled[numerical_cols] = scaler.fit_transform(df[numerical_cols])"
      ],
      "metadata": {
        "id": "U5ICZ3NPBVE6"
      },
      "execution_count": 10,
      "outputs": []
    },
    {
      "cell_type": "code",
      "source": [
        "# Display dataset after scaling\n",
        "print(\"\\nFirst Few Rows After Min-Max Scaling:\")\n",
        "print(df_scaled.head())"
      ],
      "metadata": {
        "colab": {
          "base_uri": "https://localhost:8080/"
        },
        "id": "WaGg5FZABYnG",
        "outputId": "c9043ac6-b444-48d2-ced1-f3b911d3c116"
      },
      "execution_count": 11,
      "outputs": [
        {
          "output_type": "stream",
          "name": "stdout",
          "text": [
            "\n",
            "First Few Rows After Min-Max Scaling:\n",
            "          DOB  BASIC_PAY       HRA        DA       TAX\n",
            "0  07-03-2004   0.000000  0.000000  0.000000  0.000000\n",
            "1  10-03-2002   0.076923  0.076923  0.076923  0.076923\n",
            "2  12-03-2000   0.153846  0.153846  0.153846  0.153846\n",
            "3  15-03-1998   0.230769  0.230769  0.230769  0.230769\n",
            "4  17-03-1996   0.307692  0.307692  0.307692  0.307692\n"
          ]
        }
      ]
    },
    {
      "cell_type": "code",
      "source": [
        "output_file = \"EMP_SAL_processed.csv\"\n",
        "df_scaled.to_csv(output_file, index=False)\n",
        "print(f\"\\nProcessed dataset saved as: {output_file}\")"
      ],
      "metadata": {
        "colab": {
          "base_uri": "https://localhost:8080/"
        },
        "id": "om-J9nlXBbi5",
        "outputId": "6fe0dd64-3a94-4af2-a720-cf9504ec7f0a"
      },
      "execution_count": 12,
      "outputs": [
        {
          "output_type": "stream",
          "name": "stdout",
          "text": [
            "\n",
            "Processed dataset saved as: EMP_SAL_processed.csv\n"
          ]
        }
      ]
    },
    {
      "cell_type": "code",
      "source": [
        "print(df_scaled.head())"
      ],
      "metadata": {
        "colab": {
          "base_uri": "https://localhost:8080/"
        },
        "id": "Fn9NEZuqBeaC",
        "outputId": "270680d1-96c7-467e-afb7-2bbc881ccd86"
      },
      "execution_count": 13,
      "outputs": [
        {
          "output_type": "stream",
          "name": "stdout",
          "text": [
            "          DOB  BASIC_PAY       HRA        DA       TAX\n",
            "0  07-03-2004   0.000000  0.000000  0.000000  0.000000\n",
            "1  10-03-2002   0.076923  0.076923  0.076923  0.076923\n",
            "2  12-03-2000   0.153846  0.153846  0.153846  0.153846\n",
            "3  15-03-1998   0.230769  0.230769  0.230769  0.230769\n",
            "4  17-03-1996   0.307692  0.307692  0.307692  0.307692\n"
          ]
        }
      ]
    },
    {
      "cell_type": "code",
      "source": [
        "print(df_scaled.head(20))"
      ],
      "metadata": {
        "colab": {
          "base_uri": "https://localhost:8080/"
        },
        "id": "KCJkaObxBhHE",
        "outputId": "545e16a2-64e3-458a-8171-aca7aba7d326"
      },
      "execution_count": 14,
      "outputs": [
        {
          "output_type": "stream",
          "name": "stdout",
          "text": [
            "           DOB  BASIC_PAY       HRA        DA       TAX\n",
            "0   07-03-2004   0.000000  0.000000  0.000000  0.000000\n",
            "1   10-03-2002   0.076923  0.076923  0.076923  0.076923\n",
            "2   12-03-2000   0.153846  0.153846  0.153846  0.153846\n",
            "3   15-03-1998   0.230769  0.230769  0.230769  0.230769\n",
            "4   17-03-1996   0.307692  0.307692  0.307692  0.307692\n",
            "5   20-03-1994   0.384615  0.384615  0.384615  0.384615\n",
            "6   22-03-1992   0.461538  0.461538  0.461538  0.461538\n",
            "7   25-03-1990   0.538462  0.538462  0.538462  0.538462\n",
            "8   27-03-1988   0.615385  0.615385  0.615385  0.615385\n",
            "9   30-03-1986   0.692308  0.692308  0.692308  0.692308\n",
            "10  01-04-1984   0.769231  0.769231  0.769231  0.769231\n",
            "11  04-04-1982   0.846154  0.846154  0.846154  0.846154\n",
            "12  06-04-1980   0.923077  0.923077  0.923077  0.923077\n",
            "13  09-04-1978   1.000000  1.000000  1.000000  1.000000\n"
          ]
        }
      ]
    },
    {
      "cell_type": "code",
      "source": [
        "print(df_scaled)"
      ],
      "metadata": {
        "colab": {
          "base_uri": "https://localhost:8080/"
        },
        "id": "H5K-bH1-BkLr",
        "outputId": "a2448029-4d71-4938-8307-78b3736992d1"
      },
      "execution_count": 15,
      "outputs": [
        {
          "output_type": "stream",
          "name": "stdout",
          "text": [
            "           DOB  BASIC_PAY       HRA        DA       TAX\n",
            "0   07-03-2004   0.000000  0.000000  0.000000  0.000000\n",
            "1   10-03-2002   0.076923  0.076923  0.076923  0.076923\n",
            "2   12-03-2000   0.153846  0.153846  0.153846  0.153846\n",
            "3   15-03-1998   0.230769  0.230769  0.230769  0.230769\n",
            "4   17-03-1996   0.307692  0.307692  0.307692  0.307692\n",
            "5   20-03-1994   0.384615  0.384615  0.384615  0.384615\n",
            "6   22-03-1992   0.461538  0.461538  0.461538  0.461538\n",
            "7   25-03-1990   0.538462  0.538462  0.538462  0.538462\n",
            "8   27-03-1988   0.615385  0.615385  0.615385  0.615385\n",
            "9   30-03-1986   0.692308  0.692308  0.692308  0.692308\n",
            "10  01-04-1984   0.769231  0.769231  0.769231  0.769231\n",
            "11  04-04-1982   0.846154  0.846154  0.846154  0.846154\n",
            "12  06-04-1980   0.923077  0.923077  0.923077  0.923077\n",
            "13  09-04-1978   1.000000  1.000000  1.000000  1.000000\n"
          ]
        }
      ]
    },
    {
      "cell_type": "code",
      "source": [
        "print(df_scaled.describe())"
      ],
      "metadata": {
        "colab": {
          "base_uri": "https://localhost:8080/"
        },
        "id": "S7hGpx--Boo0",
        "outputId": "7b84d7f3-bad1-40f7-978b-3fdc416aa088"
      },
      "execution_count": 16,
      "outputs": [
        {
          "output_type": "stream",
          "name": "stdout",
          "text": [
            "       BASIC_PAY        HRA         DA        TAX\n",
            "count  14.000000  14.000000  14.000000  14.000000\n",
            "mean    0.500000   0.500000   0.500000   0.500000\n",
            "std     0.321792   0.321792   0.321792   0.321792\n",
            "min     0.000000   0.000000   0.000000   0.000000\n",
            "25%     0.250000   0.250000   0.250000   0.250000\n",
            "50%     0.500000   0.500000   0.500000   0.500000\n",
            "75%     0.750000   0.750000   0.750000   0.750000\n",
            "max     1.000000   1.000000   1.000000   1.000000\n"
          ]
        }
      ]
    }
  ]
}